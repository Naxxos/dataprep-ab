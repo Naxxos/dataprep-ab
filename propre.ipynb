{
 "cells": [
  {
   "cell_type": "code",
   "execution_count": 7,
   "metadata": {},
   "outputs": [],
   "source": [
    "import xmltodict\n",
    "import pandas as pd\n",
    " \n",
    "def create_dict_from_xml(chemin_fichier):\n",
    "    with open(chemin_fichier, encoding='utf8') as fd:\n",
    "        doc = xmltodict.parse(fd.read(), dict_constructor=dict)\n",
    "    return doc"
   ]
  },
  {
   "cell_type": "code",
   "execution_count": 32,
   "metadata": {},
   "outputs": [],
   "source": [
    "\"\"\"\n",
    "  Parse le dictionnaire des types complexes et retourne le résultat dans un dataframe et un dictionnaire\n",
    "\"\"\"\n",
    "\n",
    "def _parse_complex_type(annexe_type : dict):\n",
    "    list_records = []\n",
    "    all_complex_type = annexe_type['xs:schema']['xs:complexType']\n",
    "    types_complexe = dict()\n",
    "    i=0\n",
    "    for complex_type in all_complex_type:\n",
    "        temp_dict = dict()\n",
    "        nom_type_complexe = complex_type['@name']\n",
    "        if isinstance(complex_type['xs:attribute'], dict):\n",
    "            for element in complex_type['xs:attribute']['xs:simpleType']['xs:restriction']['xs:enumeration']:\n",
    "                temp_dict[element['@value']] = element.get('xs:annotation', {}).get('xs:documentation', element['@value'])\n",
    "        \n",
    "        types_complexe[nom_type_complexe] = temp_dict\n",
    "        result_dict = {\n",
    "            \"type\" : nom_type_complexe,\n",
    "            \"enum\" : temp_dict\n",
    "        }\n",
    "        list_records.append(result_dict)\n",
    "    \n",
    "    df = pd.DataFrame.from_records(list_records)\n",
    "\n",
    "    return df, types_complexe\n",
    "\n",
    "def generate_complex_type_df(chemin : Path) -> pd.DataFrame:\n",
    "    annexe_type = create_dict_from_xml(chemin)\n",
    "    complexe_types_df, complexe_types_dict = _parse_complex_type(annexe_type)\n",
    "    \n",
    "    return complexe_types_df\n",
    "\n",
    "def generate_complex_type_dict(chemin : Path) -> pd.DataFrame:\n",
    "    annexe_type = create_dict_from_xml(chemin)\n",
    "    complexe_types_df, complexe_types_dict = _parse_complex_type(annexe_type)\n",
    "    return complexe_types_dict"
   ]
  },
  {
   "cell_type": "code",
   "execution_count": 78,
   "metadata": {},
   "outputs": [],
   "source": [
    "\"\"\"\n",
    "  Génération d'une documentation des codes de données des annexes\n",
    "\"\"\"\n",
    "\n",
    "def _parse_annexe_fields_documentation(class_annexe : dict) -> pd.DataFrame:\n",
    "    elements = class_annexe['xs:sequence']['xs:element']\n",
    "    list_records = []\n",
    "    dict_champs = dict()\n",
    "    nom_annexe = class_annexe[\"@name\"][1:]\n",
    "    \n",
    "    for element in elements:\n",
    "        documentation = element['xs:annotation']['xs:documentation']\n",
    "        if isinstance(documentation, str):\n",
    "            libelle = documentation\n",
    "            description = documentation\n",
    "        else:\n",
    "            libelle = element['xs:annotation']['xs:documentation']['z:libelle']\n",
    "            description = element['xs:annotation']['xs:documentation'].get('z:description')\n",
    "        dict_champs = {\n",
    "            \"nom_annexe\" : nom_annexe,\n",
    "            \"nom-champ\" : element[\"@name\"],\n",
    "            \"type\" : element[\"@type\"],\n",
    "            \"libelle\" : libelle,\n",
    "            \"description\" : description,\n",
    "        }\n",
    "        list_records.append(dict_champs)\n",
    "    \n",
    "    df = pd.DataFrame.from_records(list_records)\n",
    "    df[\"description\"] = df[\"description\"].str.replace(r'^<[^<>]*>', '', regex=True)\n",
    "    df[\"description\"] = df[\"description\"].str.replace(r'^\\s*<ul>', '', regex=True)\n",
    "    df[\"description\"] = df[\"description\"].str.replace(r'^\\s*<li>', '', regex=True)\n",
    "    df[\"description\"] = df[\"description\"].str.replace(r'<ul>', ' : ', regex=True)\n",
    "    df[\"description\"] = df[\"description\"].str.replace(r'<li>', ' - ', regex=True)\n",
    "    df[\"description\"] = df[\"description\"].str.replace(r'<[^<>]*>', ' ', regex=True)\n",
    "    df[\"description\"] = df[\"description\"].str.replace(r'\\s\\s+', ' ', regex=True)\n",
    "\n",
    "    \n",
    "    return df\n",
    "\n",
    "def _merge_annexe_type_and_documentation(chemin_annexe: Path, complex_type_df: pd.DataFrame) -> pd.DataFrame:\n",
    "    class_to_generate = create_dict_from_xml(chemin_annexe)['xs:schema']['xs:complexType'][1]\n",
    "    init_df = _parse_annexe_fields_documentation(class_to_generate)\n",
    "    init_df = init_df.merge(complex_type_df, how='left')\n",
    "    return init_df\n",
    "\n"
   ]
  },
  {
   "cell_type": "code",
   "execution_count": 82,
   "metadata": {},
   "outputs": [],
   "source": [
    "from pathlib import Path\n",
    "PATH_TO_SCHEMA = Path(\"/home/rbevenot/projets/dataprep-ab/schema/schema_doc_budg_V100/\")\n",
    "\n",
    "\n",
    "def _get_list_annexes_path():\n",
    "    dict_annexe = create_dict_from_xml(PATH_TO_SCHEMA.joinpath(\"SchemaDocBudg/Class_Annexes.xsd\"))[\"xs:schema\"]['xs:include']\n",
    "    dict_annexe.pop(0)\n",
    "    class_annexe_paths = []\n",
    "    for annexe in dict_annexe: \n",
    "        class_annexe_paths.append(PATH_TO_SCHEMA.joinpath(f\"SchemaDocBudg/{annexe['@schemaLocation']}\"))\n",
    "    return class_annexe_paths\n",
    "\n",
    "\n",
    "def parse_all_annexes_fields_documentation() -> pd.DataFrame:\n",
    "    #Erreurs à traiter manuellement :\n",
    "    # - l'annexe signatures dont la balise xs:complextype est inversée par rapport à l'habitude, il faut copier le premier bloc xs:complextype en dessous du 2ème.\n",
    "    # - l'annexe emprunt \"IndSousJacentDtVote\" ou il y a deux balises documentation qui génère une liste (seul cas)\n",
    "    df_result = pd.DataFrame()\n",
    "    \n",
    "    annexes_paths = _get_list_annexes_path()\n",
    "    annexe_complexe_types = generate_complex_type_df(PATH_TO_SCHEMA.joinpath(\"SchemaDocBudg/CommunAnnexe.xsd\"))\n",
    "    \n",
    "    for annexe_path in annexes_paths:\n",
    "        df = _merge_annexe_type_and_documentation(annexe_path, annexe_complexe_types)\n",
    "        df_result = pd.concat([df, df_result])\n",
    "    \n",
    "    return df_result\n",
    "\n",
    "\n",
    "def generate_annexe_data_documentation_csv(path_to_export : Path):\n",
    "    df_to_csv = parse_all_annexes_fields_documentation()\n",
    "    df_to_csv.to_csv(path_to_export, index=False)  \n",
    "    \n"
   ]
  },
  {
   "cell_type": "code",
   "execution_count": 83,
   "metadata": {},
   "outputs": [],
   "source": [
    "#parse_all_annexes_fields_documentation()\n",
    "generate_annexe_data_documentation_csv(\"/home/rbevenot/projets/dataprep-ab/data_doc.csv\")"
   ]
  },
  {
   "cell_type": "code",
   "execution_count": null,
   "metadata": {},
   "outputs": [],
   "source": []
  },
  {
   "cell_type": "code",
   "execution_count": null,
   "metadata": {},
   "outputs": [],
   "source": []
  },
  {
   "cell_type": "code",
   "execution_count": null,
   "metadata": {},
   "outputs": [],
   "source": []
  },
  {
   "cell_type": "code",
   "execution_count": null,
   "metadata": {},
   "outputs": [],
   "source": []
  },
  {
   "cell_type": "code",
   "execution_count": null,
   "metadata": {},
   "outputs": [],
   "source": []
  },
  {
   "cell_type": "code",
   "execution_count": null,
   "metadata": {},
   "outputs": [],
   "source": []
  },
  {
   "cell_type": "code",
   "execution_count": null,
   "metadata": {},
   "outputs": [],
   "source": []
  }
 ],
 "metadata": {
  "interpreter": {
   "hash": "995cf7a9003b664b9db9fa0428cd4241a9dbfec89d188999a9a74ddf6e022b66"
  },
  "kernelspec": {
   "display_name": "Python (dataprep)",
   "language": "python",
   "name": "dataprep"
  },
  "language_info": {
   "codemirror_mode": {
    "name": "ipython",
    "version": 3
   },
   "file_extension": ".py",
   "mimetype": "text/x-python",
   "name": "python",
   "nbconvert_exporter": "python",
   "pygments_lexer": "ipython3",
   "version": "3.9.7"
  }
 },
 "nbformat": 4,
 "nbformat_minor": 4
}
