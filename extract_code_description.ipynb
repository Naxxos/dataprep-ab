{
 "cells": [
  {
   "cell_type": "markdown",
   "metadata": {},
   "source": [
    "# Enrichissement des données\n",
    "Le but est de pouvoir rendre lisible par l'humain les codes techniques des actes budgétaires. Pour cela nous allons d'abord créer un dictionnaire qui répertorie ces codes puis l'utiliser pour remplacer les codes techniques par leurs valeurs dans le dataframe. Le format final doit être du type :"
   ]
  },
  {
   "cell_type": "code",
   "execution_count": null,
   "metadata": {},
   "outputs": [],
   "source": [
    "{\n",
    "    'nature_dec': {'01': 'Budget primitif',   '02': 'Décision modificative',   '03': 'Budget supplémentaire',   '09': 'Compte administratif'}, \n",
    "    'type_budget': {'P': 'Principal', 'A': 'Annexe'}\n",
    "}"
   ]
  },
  {
   "cell_type": "markdown",
   "metadata": {},
   "source": [
    "Pour arriver à ce résultat, nous devrons passer par deux étapes, (1) la première est de récupérer les informations sur le typage des données des annexes (AT) à partir du document \"./download/SchemaDocBudg/CommunAnnexe.xsd\". (2) La seconde étape sera, pour chaque annexe, et a partir de son fichier xsd, de créer un tableau avec le nom du champ, son type de donnée, son libellé, sa description, les valeurs que le type de donnée peut prendre (enum, str, int, ...). Ce tableau servira notre double volonté\n",
    "1. Créer un dictionnaire des données\n",
    "2. Créer une structure de données permettant de remplacer plus facilement les codes techniques par des données intelligible. (exemple ci-dessus)\n",
    "\n"
   ]
  },
  {
   "cell_type": "markdown",
   "metadata": {},
   "source": [
    "## Etape 1\n",
    "Grâce au document CommunAnnexe.xsd qui répertorie tous les types dit \"complexes\", nous allons pouvoir générer un dictionnaire des types avec leurs énumérations clés/valeurs.\n",
    "Les différentes étapes envisagés pour créer ce dictionnaire :\n",
    "- Lecture du fichier XSD et parsing grâce à la bibliothèque xmltodict (idem que le code de parsing.py)\n",
    "- A partir du dictionnaire créé, créer un nouveau dictionnaire \"dict_type_complex\" qui aura pour clés de niveau 1 le nom (@name) du type de données et en valeur un dictionnaire construit sur les valeurs de ce type de données. En clés de \"niveau 2\" nous aurons donc les clés des énumérations (@value) et en valeur le texte de la valeur (xs:documentation).\n"
   ]
  },
  {
   "cell_type": "markdown",
   "metadata": {},
   "source": [
    "## Etape 2 \n",
    "La deuxième chantier est de générer le dictionnaire des données des annexes avec le nom de champs (et pas leur type comme précédemment) et les descriptions. Ces données peuvent être générées grâce au dictionnaire obtenu précédemment et aux fichiers de **class** des différentes annexes.\n",
    "Les étapes envisagées :\n",
    "- Déterminer la liste des fichiers \"Class_***.xsd\" qui correspondent à des annexes.\n",
    "- Choisir une première annexe pour faire des tests et lire le fichier XSD avec xmltodict (Class_Emprunts.xsd par exemple)\n",
    "- Générer un tableau avec comme colonnes : nom du champ, type de champ, libellé, description\n",
    "- Enlever les balises html et \"\\\" des colonnes libellés et description\n",
    "- Ajouter pour chaque champ ayant des types complexes (AT) le contenu du dictionnaire dict_type_complex pour le type correspondant"
   ]
  }
 ],
 "metadata": {
  "interpreter": {
   "hash": "995cf7a9003b664b9db9fa0428cd4241a9dbfec89d188999a9a74ddf6e022b66"
  },
  "kernelspec": {
   "display_name": "Python 3.10.4 ('dataprep')",
   "language": "python",
   "name": "python3"
  },
  "language_info": {
   "codemirror_mode": {
    "name": "ipython",
    "version": 3
   },
   "file_extension": ".py",
   "mimetype": "text/x-python",
   "name": "python",
   "nbconvert_exporter": "python",
   "pygments_lexer": "ipython3",
   "version": "3.10.4"
  },
  "orig_nbformat": 4
 },
 "nbformat": 4,
 "nbformat_minor": 2
}
